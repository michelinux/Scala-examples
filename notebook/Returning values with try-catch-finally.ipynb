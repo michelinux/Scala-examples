{
 "cells": [
  {
   "cell_type": "markdown",
   "metadata": {
    "slideshow": {
     "slide_type": "-"
    }
   },
   "source": [
    "# Returning values with `try-catch-finally`\n",
    "\n",
    "In `scala` even the `try-catch` blocks can return a value.\n",
    "\n",
    "Let's imagine that we want to do some operation, for example some I/O that could fail. A good habit would be to throw an exception when some instruction could fail, wrap those instructions in a try, handle the exceptions in the catch, and use a finally to do those operations that are needed to be done in any case (for example to close the files, which would stay open as long as the JVM is running).\n",
    "\n",
    "We will have to handle two exceptions: `NumberFormatException` and `FileNotFoundException`."
   ]
  },
  {
   "cell_type": "markdown",
   "metadata": {
    "slideshow": {
     "slide_type": "-"
    }
   },
   "source": [
    "First thing let's create the files that we need for the example."
   ]
  },
  {
   "cell_type": "code",
   "execution_count": 30,
   "metadata": {
    "slideshow": {
     "slide_type": "-"
    }
   },
   "outputs": [
    {
     "data": {
      "text/plain": [
       "\u001b[32mimport \u001b[39m\u001b[36mjava.io._\n",
       "\n",
       "\u001b[39m\n",
       "\u001b[36mpw1\u001b[39m: \u001b[32mPrintWriter\u001b[39m = java.io.PrintWriter@6df971af\n",
       "\u001b[36mpw2\u001b[39m: \u001b[32mPrintWriter\u001b[39m = java.io.PrintWriter@6b283f99"
      ]
     },
     "execution_count": 30,
     "metadata": {},
     "output_type": "execute_result"
    }
   ],
   "source": [
    "import java.io._\n",
    "\n",
    "val pw1 = new PrintWriter(new File(\"/tmp/good.txt\"))\n",
    "pw1.write(\"200\")\n",
    "pw1.close\n",
    "val pw2 = new PrintWriter(new File(\"/tmp/bad.txt\"))\n",
    "pw2.write(\"zzz\")\n",
    "pw2.close"
   ]
  },
  {
   "cell_type": "markdown",
   "metadata": {},
   "source": [
    "Let's have a function `printNumberInfo` accepting a file name. After printing some info about the number in the file, we will close the file."
   ]
  },
  {
   "cell_type": "code",
   "execution_count": 31,
   "metadata": {
    "slideshow": {
     "slide_type": "slide"
    }
   },
   "outputs": [
    {
     "name": "stdout",
     "output_type": "stream",
     "text": [
      "The number is big\n"
     ]
    },
    {
     "ename": "",
     "evalue": "",
     "output_type": "error",
     "traceback": [
      "\u001b[31mjava.lang.NumberFormatException: For input string: \"zzz\"\u001b[39m",
      "  java.lang.NumberFormatException.forInputString(\u001b[32mNumberFormatException.java\u001b[39m:\u001b[32m65\u001b[39m)",
      "  java.lang.Integer.parseInt(\u001b[32mInteger.java\u001b[39m:\u001b[32m580\u001b[39m)",
      "  java.lang.Integer.parseInt(\u001b[32mInteger.java\u001b[39m:\u001b[32m615\u001b[39m)",
      "  scala.collection.immutable.StringLike$class.toInt(\u001b[32mStringLike.scala\u001b[39m:\u001b[32m273\u001b[39m)",
      "  scala.collection.immutable.StringOps.toInt(\u001b[32mStringOps.scala\u001b[39m:\u001b[32m29\u001b[39m)",
      "  $sess.cmd30Wrapper$Helper.printNumberInfo(\u001b[32mcmd30.sc\u001b[39m:\u001b[32m3\u001b[39m)",
      "  $sess.cmd30Wrapper$Helper.<init>(\u001b[32mcmd30.sc\u001b[39m:\u001b[32m15\u001b[39m)",
      "  $sess.cmd30Wrapper.<init>(\u001b[32mcmd30.sc\u001b[39m:\u001b[32m372\u001b[39m)",
      "  $sess.cmd30$.<init>(\u001b[32mcmd30.sc\u001b[39m:\u001b[32m247\u001b[39m)",
      "  $sess.cmd30$.<clinit>(\u001b[32mcmd30.sc\u001b[39m:\u001b[32m-1\u001b[39m)"
     ]
    }
   ],
   "source": [
    "def printNumberInfo(filename: String) {\n",
    "    val source = scala.io.Source.fromFile(filename)\n",
    "    val number = source.getLines.toArray.head.toInt\n",
    "    \n",
    "    if (number > 10) {\n",
    "        println(\"The number is big\")\n",
    "    } else {\n",
    "        println(\"The number is small\")\n",
    "    }\n",
    "    \n",
    "    source.close\n",
    "}\n",
    "\n",
    "printNumberInfo(\"/tmp/good.txt\")   //Contains a number\n",
    "printNumberInfo(\"/tmp/bad.txt\")    //Contains a string\n",
    "printNumberInfo(\"/tmp/nofile.txt\") //Does not exist\n"
   ]
  },
  {
   "cell_type": "markdown",
   "metadata": {},
   "source": [
    "When we call `printNumberInfo(\"/tmp/bad.txt\")` the exception is preventing the file from being closed. \n",
    "\n",
    "Time to use a `try-catch-finally` to handle the exception, print some better info, and close the file. `source` is defined as `Option` to extend its scope over the whole `try-catch-finally`."
   ]
  },
  {
   "cell_type": "code",
   "execution_count": 32,
   "metadata": {
    "slideshow": {
     "slide_type": "slide"
    }
   },
   "outputs": [
    {
     "name": "stdout",
     "output_type": "stream",
     "text": [
      "/tmp/good.txt -> The number is big\n",
      "Finally close the file if necessary\n",
      "\n",
      "/tmp/bad.txt -> No number found\n",
      "Finally close the file if necessary\n",
      "\n",
      "/tmp/nofile.txt -> Cannot read the file\n",
      "Finally close the file if necessary\n",
      "\n"
     ]
    },
    {
     "data": {
      "text/plain": [
       "\u001b[32mimport \u001b[39m\u001b[36mjava.io._\n",
       "\u001b[39m\n",
       "\u001b[32mimport \u001b[39m\u001b[36mscala.io._\n",
       "\n",
       "\u001b[39m\n",
       "defined \u001b[32mfunction\u001b[39m \u001b[36mprintNumberInfo\u001b[39m"
      ]
     },
     "execution_count": 32,
     "metadata": {},
     "output_type": "execute_result"
    }
   ],
   "source": [
    "import java.io._\n",
    "import scala.io._\n",
    "\n",
    "def printNumberInfo(filename: String) {\n",
    "    var source = None: Option[Source]\n",
    "\n",
    "    try {\n",
    "        source = Some(Source.fromFile(filename))\n",
    "        val number = source.get.getLines.toArray.head.toInt\n",
    "    \n",
    "        if (number > 10) {\n",
    "            println(filename + \" -> The number is big\")\n",
    "        } else {\n",
    "            println(filename + \" -> The number is small\")\n",
    "        }\n",
    "    } catch {\n",
    "        case ex: NumberFormatException => println(filename + \" -> No number found\")\n",
    "        case ex: FileNotFoundException => println(filename + \" -> Cannot read the file\")\n",
    "    } finally {\n",
    "        println(\"Finally close the file if necessary\\n\")\n",
    "        if (source.isDefined) source.get.close \n",
    "    }\n",
    "}\n",
    "\n",
    "printNumberInfo(\"/tmp/good.txt\")   //Contains a number\n",
    "printNumberInfo(\"/tmp/bad.txt\")    //Contains a string\n",
    "printNumberInfo(\"/tmp/nofile.txt\") //Does not exist\n"
   ]
  },
  {
   "cell_type": "markdown",
   "metadata": {},
   "source": [
    "Very well. This is the canonical use of the `try-catch-finally` as one would do in any language. But this is `scala` and we can do more than that. Let's imagine that we want to return an `Int` representing a status: `0` if everything is OK, any other number if something is wrong.\n",
    "\n",
    "As one could imagine in `scala` even the `try` returns a value. What I personally wanted to understand originally was: *When I return a value in the `try` or in the `catch`, what happens when I reach the `finally`? "
   ]
  },
  {
   "cell_type": "code",
   "execution_count": 33,
   "metadata": {
    "slideshow": {
     "slide_type": "slide"
    }
   },
   "outputs": [
    {
     "name": "stdout",
     "output_type": "stream",
     "text": [
      "/tmp/good.txt -> The number is big\n",
      "Finally close the file if necessary\n",
      "\n",
      "/tmp/bad.txt -> No number found\n",
      "Finally close the file if necessary\n",
      "\n",
      "/tmp/nofile.txt -> Cannot read the file\n",
      "Finally close the file if necessary\n",
      "\n"
     ]
    },
    {
     "data": {
      "text/plain": [
       "\u001b[32mimport \u001b[39m\u001b[36mjava.io._\n",
       "\u001b[39m\n",
       "\u001b[32mimport \u001b[39m\u001b[36mscala.io._\n",
       "\n",
       "\u001b[39m\n",
       "defined \u001b[32mfunction\u001b[39m \u001b[36mprintNumberInfo\u001b[39m\n",
       "\u001b[36mgoodStatus\u001b[39m: \u001b[32mInt\u001b[39m = \u001b[32m0\u001b[39m\n",
       "\u001b[36mbadStatus\u001b[39m: \u001b[32mInt\u001b[39m = \u001b[32m1\u001b[39m\n",
       "\u001b[36mnoFileStatus\u001b[39m: \u001b[32mInt\u001b[39m = \u001b[32m2\u001b[39m"
      ]
     },
     "execution_count": 33,
     "metadata": {},
     "output_type": "execute_result"
    }
   ],
   "source": [
    "import java.io._\n",
    "import scala.io._\n",
    "\n",
    "def printNumberInfo(filename: String): Int = {\n",
    "    var source = None: Option[Source]\n",
    "\n",
    "    val status: Int = try {\n",
    "        source = Some(Source.fromFile(filename))\n",
    "        val number = source.get.getLines.toArray.head.toInt\n",
    "    \n",
    "        if (number > 10) {\n",
    "            println(filename + \" -> The number is big\")\n",
    "        } else {\n",
    "            println(filename + \" -> The number is small\")\n",
    "        }\n",
    "        \n",
    "        0\n",
    "        \n",
    "    } catch {\n",
    "        case ex: NumberFormatException => { \n",
    "            println(filename + \" -> No number found\")\n",
    "            1\n",
    "        }\n",
    "        case ex: FileNotFoundException => {\n",
    "            println(filename + \" -> Cannot read the file\")\n",
    "            2\n",
    "        }\n",
    "    } finally {\n",
    "        println(\"Finally close the file if necessary\\n\")\n",
    "        if (source.isDefined) source.get.close\n",
    "        23 //This is simply ignored\n",
    "    }\n",
    "        status\n",
    "}\n",
    "\n",
    "val goodStatus = printNumberInfo(\"/tmp/good.txt\")   //Contains a number\n",
    "val badStatus = printNumberInfo(\"/tmp/bad.txt\")    //Contains a string\n",
    "val noFileStatus = printNumberInfo(\"/tmp/nofile.txt\") //Does not exist\n"
   ]
  },
  {
   "cell_type": "markdown",
   "metadata": {},
   "source": [
    "As you can see the returned values are those defined in the `try` and the `catch`. Despite the returned value in `try` and `catch`, the `finally` is still executed. Even more interesting: if a value is specified in the `finally`, as the `23` in the example, the compiler won't complain but that value will simply be ignored.\n",
    "\n",
    "Let's play some more. What happens if we use `return`?"
   ]
  },
  {
   "cell_type": "code",
   "execution_count": 34,
   "metadata": {
    "slideshow": {
     "slide_type": "slide"
    }
   },
   "outputs": [
    {
     "name": "stdout",
     "output_type": "stream",
     "text": [
      "/tmp/good.txt -> The number is big\n",
      "Finally close the file if necessary\n",
      "\n",
      "/tmp/bad.txt -> No number found\n",
      "Finally close the file if necessary\n",
      "\n",
      "/tmp/nofile.txt -> Cannot read the file\n",
      "Finally close the file if necessary\n",
      "\n"
     ]
    },
    {
     "data": {
      "text/plain": [
       "\u001b[32mimport \u001b[39m\u001b[36mjava.io._\n",
       "\u001b[39m\n",
       "\u001b[32mimport \u001b[39m\u001b[36mscala.io._\n",
       "\n",
       "\u001b[39m\n",
       "defined \u001b[32mfunction\u001b[39m \u001b[36mprintNumberInfo\u001b[39m\n",
       "\u001b[36mgoodStatus\u001b[39m: \u001b[32mInt\u001b[39m = \u001b[32m23\u001b[39m\n",
       "\u001b[36mbadStatus\u001b[39m: \u001b[32mInt\u001b[39m = \u001b[32m23\u001b[39m\n",
       "\u001b[36mnoFileStatus\u001b[39m: \u001b[32mInt\u001b[39m = \u001b[32m23\u001b[39m"
      ]
     },
     "execution_count": 34,
     "metadata": {},
     "output_type": "execute_result"
    }
   ],
   "source": [
    "import java.io._\n",
    "import scala.io._\n",
    "\n",
    "def printNumberInfo(filename: String): Int = {\n",
    "    var source = None: Option[Source]\n",
    "\n",
    "    val status: Int = try {\n",
    "        source = Some(Source.fromFile(filename))\n",
    "        val number = source.get.getLines.toArray.head.toInt\n",
    "    \n",
    "        if (number > 10) {\n",
    "            println(filename + \" -> The number is big\")\n",
    "        } else {\n",
    "            println(filename + \" -> The number is small\")\n",
    "        }\n",
    "        \n",
    "        return 0\n",
    "        \n",
    "    } catch {\n",
    "        case ex: NumberFormatException => { \n",
    "            println(filename + \" -> No number found\")\n",
    "            return 1\n",
    "        }\n",
    "        case ex: FileNotFoundException => {\n",
    "            println(filename + \" -> Cannot read the file\")\n",
    "            return 2\n",
    "        }\n",
    "    } finally {\n",
    "        println(\"Finally close the file if necessary\\n\")\n",
    "        if (source.isDefined) source.get.close\n",
    "        return 23 //This is not ignored when `return` is used\n",
    "    }\n",
    "    \n",
    "    status\n",
    "}\n",
    "\n",
    "val goodStatus = printNumberInfo(\"/tmp/good.txt\")   //Contains a number\n",
    "val badStatus = printNumberInfo(\"/tmp/bad.txt\")    //Contains a string\n",
    "val noFileStatus = printNumberInfo(\"/tmp/nofile.txt\") //Does not exist\n"
   ]
  },
  {
   "cell_type": "markdown",
   "metadata": {},
   "source": [
    "The `return` in the `finally` is overriding those in `try` and `catch` bodies. If you don't have any `return` in the `finally` those in the `try` and `catch` will be used.\n",
    "\n",
    "**Beware**: the `return` will make you exit from the function while just indicating the value will just get you out of the current scope."
   ]
  },
  {
   "cell_type": "markdown",
   "metadata": {},
   "source": [
    "## References\n",
    "\n",
    "A few links:\n",
    "\n",
    "* https://alvinalexander.com/scala/how-declare-variable-option-before-try-catch-finally-scala\n",
    "* https://alvinalexander.com/scala/how-to-write-text-files-in-scala-printwriter-filewriter"
   ]
  }
 ],
 "metadata": {
  "celltoolbar": "Slideshow",
  "kernelspec": {
   "display_name": "Scala",
   "language": "scala",
   "name": "scala"
  },
  "language_info": {
   "codemirror_mode": "text/x-scala",
   "file_extension": ".scala",
   "mimetype": "text/x-scala",
   "name": "scala211",
   "nbconvert_exporter": "script",
   "pygments_lexer": "scala",
   "version": "2.11.11"
  }
 },
 "nbformat": 4,
 "nbformat_minor": 2
}
